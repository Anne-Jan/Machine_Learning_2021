{
 "cells": [
  {
   "cell_type": "code",
   "execution_count": 1,
   "metadata": {},
   "outputs": [],
   "source": [
    "import matplotlib.pyplot as plt\n",
    "import numpy as np\n",
    "from sklearn.utils import shuffle\n",
    "import tensorflow as tf\n",
    "from tensorflow import keras\n",
    "import random\n",
    "\n",
    "from tensorflow.keras.preprocessing.image import ImageDataGenerator\n",
    "from sklearn.model_selection import train_test_split\n",
    "\n",
    "import os\n",
    "import random\n",
    "from scipy import ndarray\n",
    "\n",
    "# image processing library\n",
    "import skimage as sk\n",
    "from skimage import transform\n",
    "from skimage import util\n",
    "from skimage import io"
   ]
  },
  {
   "cell_type": "code",
   "execution_count": 2,
   "metadata": {},
   "outputs": [],
   "source": [
    "data = []\n",
    "#Value that determines by how much the data augmentation method should create new data\n",
    "\n",
    "with open('mnist_digits_data.txt') as f:\n",
    "  lines = f.readlines()\n",
    "  # print(len(lines))\n",
    "  for line in lines:\n",
    "    \n",
    "    line = line.split('  ')\n",
    "    line.pop(0)\n",
    "    line[-1] = line[-1].replace(\"\\n\", \"\")\n",
    "    for idx in range(len(line)):\n",
    "      line[idx] = int(line[idx])\n",
    "\n",
    "    # print(len(line))\n",
    "    data.append(line)\n",
    "\n",
    "data = np.asarray(data)\n",
    "\n",
    "#Create a second set of labels for the original dataset\n",
    "labels_original_data = np.zeros(200)\n",
    "for i in range (1, 10):\n",
    "  labels_original_data = np.concatenate((labels_original_data, np.zeros(200)+i))\n",
    "\n",
    "#Normalize the pixel values between 0-1\n",
    "data = data / np.amax(data)"
   ]
  },
  {
   "cell_type": "code",
   "execution_count": 3,
   "metadata": {},
   "outputs": [],
   "source": [
    "data3d = np.reshape(data, (2000, 16, 15, 1))"
   ]
  },
  {
   "cell_type": "code",
   "execution_count": 4,
   "metadata": {},
   "outputs": [
    {
     "data": {
      "image/png": "[encoded data removed]",
      "text/plain": [
       "<Figure size 432x288 with 1 Axes>"
      ]
     },
     "metadata": {
      "needs_background": "light"
     },
     "output_type": "display_data"
    }
   ],
   "source": [
    "# Show example image of data\n",
    "from matplotlib import pyplot as plt\n",
    "plt.imshow(data3d[1999], cmap = 'Greys', interpolation='nearest')\n",
    "plt.show()"
   ]
  },
  {
   "cell_type": "code",
   "execution_count": 5,
   "metadata": {},
   "outputs": [],
   "source": [
    "# Define augmentation functions\n",
    "\n",
    "def random_rotation(image_array: ndarray):\n",
    "    # pick a random degree of rotation between 20% on the left and 20% on the right\n",
    "    random_degree = random.uniform(-20, 20)\n",
    "    return sk.transform.rotate(image_array, random_degree)\n",
    "\n",
    "def random_noise(image_array: ndarray):\n",
    "    # add random noise to the image using gaussian, can also be changed so salt and pepper for example: (s&p, )\n",
    "    return sk.util.random_noise(image_array, mode = 'gaussian')\n"
   ]
  },
  {
   "cell_type": "code",
   "execution_count": 6,
   "metadata": {},
   "outputs": [
    {
     "data": {
      "image/png": "[encoded data removed]",
      "text/plain": [
       "<Figure size 432x288 with 1 Axes>"
      ]
     },
     "metadata": {
      "needs_background": "light"
     },
     "output_type": "display_data"
    }
   ],
   "source": [
    "# show example of noise and rotation\n",
    "rot = random_noise(data3d[1999])\n",
    "rot = random_rotation(rot)\n",
    "\n",
    "from matplotlib import pyplot as plt\n",
    "plt.imshow(rot, cmap = 'Greys', interpolation='nearest')\n",
    "plt.show()"
   ]
  },
  {
   "cell_type": "code",
   "execution_count": 7,
   "metadata": {},
   "outputs": [
    {
     "data": {
      "text/plain": [
       "(8000, 16, 15, 1)"
      ]
     },
     "execution_count": 7,
     "metadata": {},
     "output_type": "execute_result"
    }
   ],
   "source": [
    "num_rot = 2 # number of rotated images to augment from each original image\n",
    "num_noise = 2 # number of noise image augmented from each original image\n",
    "data_augmented = []\n",
    "\n",
    "for image in data3d:\n",
    "    for i in range(num_rot):\n",
    "        rot_img = random_rotation(image)\n",
    "        data_augmented.append(rot_img)\n",
    "    for j in range(num_noise):\n",
    "        noise_img = random_noise(image)\n",
    "        data_augmented.append(rot_img)\n",
    "\n",
    "data_augmented = np.array(data_augmented)\n",
    "data_augmented.shape\n",
    "\n",
    "   "
   ]
  },
  {
   "cell_type": "code",
   "execution_count": 10,
   "metadata": {},
   "outputs": [
    {
     "data": {
      "text/plain": [
       "4.0"
      ]
     },
     "execution_count": 10,
     "metadata": {},
     "output_type": "execute_result"
    }
   ],
   "source": [
    "data_augmented.shape[0]/len(data)"
   ]
  },
  {
   "cell_type": "code",
   "execution_count": 11,
   "metadata": {},
   "outputs": [],
   "source": [
    "#labels for augmented data\n",
    "labels_aug = np.zeros(200 * int(data_augmented.shape[0]/len(data)))\n",
    "for i in range (1, 10):\n",
    "  labels_aug = np.concatenate((labels_aug, np.zeros(200* int(data_augmented.shape[0]/len(data)))+i))"
   ]
  },
  {
   "cell_type": "code",
   "execution_count": 12,
   "metadata": {},
   "outputs": [],
   "source": [
    "# Split in train and test data\n",
    "X_train, X_test, y_train, y_test = train_test_split(data_augmented, labels_aug, test_size=0.2, random_state=0)"
   ]
  },
  {
   "cell_type": "markdown",
   "metadata": {},
   "source": [
    "Code below can be performed optionally. With the ImageDataGenerator also shifts and zooms are performed for example. An object is created which can directly be fed to our model."
   ]
  },
  {
   "cell_type": "code",
   "execution_count": 14,
   "metadata": {},
   "outputs": [],
   "source": [
    "# Split in train and test data, can be done for already augmented rotation/noise data, but also on original data\n",
    "X_train, X_test, y_train, y_test = train_test_split(data3d, labels_original_data, test_size=0.2, random_state=0)"
   ]
  },
  {
   "cell_type": "code",
   "execution_count": 15,
   "metadata": {},
   "outputs": [],
   "source": [
    "# Define image data generator for online data augmentation\n",
    "datagen = ImageDataGenerator(\n",
    "        featurewise_center=False,  # set input mean to 0 over the dataset\n",
    "        samplewise_center=False,  # set each sample mean to 0\n",
    "        featurewise_std_normalization=False,  # divide inputs by std of the dataset\n",
    "        samplewise_std_normalization=False,  # divide each input by its std\n",
    "        zca_whitening=False,  # apply ZCA whitening\n",
    "        rotation_range=10,  # randomly rotate images in the range (degrees, 0 to 180)\n",
    "        zoom_range = 0.1, # Randomly zoom image \n",
    "        width_shift_range=0.1,  # randomly shift images horizontally (fraction of total width)\n",
    "        height_shift_range=0.1,  # randomly shift images vertically (fraction of total height)\n",
    "        horizontal_flip=False,  # randomly flip images\n",
    "        vertical_flip=False)  # randomly flip images"
   ]
  },
  {
   "cell_type": "code",
   "execution_count": 16,
   "metadata": {},
   "outputs": [],
   "source": [
    "# Create augmenteted data to feed network\n",
    "batch_size = 8\n",
    "train_gen = datagen.flow(X_train, y_train, batch_size=batch_size)\n",
    "test_gen = datagen.flow(X_test, y_test, batch_size=batch_size)"
   ]
  }
 ],
 "metadata": {
  "interpreter": {
   "hash": "4e44673a4c3795dbd69f2d0c1e33ca6aa87d640fcefe8f34dc59126da007ca36"
  },
  "kernelspec": {
   "display_name": "Python 3.8.12 64-bit ('patternreg': conda)",
   "language": "python",
   "name": "python3"
  },
  "language_info": {
   "codemirror_mode": {
    "name": "ipython",
    "version": 3
   },
   "file_extension": ".py",
   "mimetype": "text/x-python",
   "name": "python",
   "nbconvert_exporter": "python",
   "pygments_lexer": "ipython3",
   "version": "3.9.10"
  },
  "orig_nbformat": 4
 },
 "nbformat": 4,
 "nbformat_minor": 2
}
